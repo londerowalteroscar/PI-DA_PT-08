{
 "cells": [
  {
   "cell_type": "markdown",
   "metadata": {},
   "source": [
    "# <span style=\"color: #FF9843\">**EDA**</span>"
   ]
  },
  {
   "cell_type": "markdown",
   "metadata": {},
   "source": [
    "## <span style=\"color: #FFDD95\">**Exploración**</span>"
   ]
  },
  {
   "cell_type": "markdown",
   "metadata": {},
   "source": [
    "### <span style=\"color: #8DECB4\">**1-Importar Librerias y Datos**</span>"
   ]
  },
  {
   "cell_type": "code",
   "execution_count": null,
   "metadata": {},
   "outputs": [],
   "source": [
    "import pandas as pd\n",
    "import seaborn as sns\n",
    "import matplotlib.pyplot as plt\n",
    "import geopandas as gpd\n",
    "from shapely.geometry import Point, Polygon\n",
    "import geojson\n",
    "import numpy as np\n"
   ]
  },
  {
   "cell_type": "markdown",
   "metadata": {},
   "source": [
    "Importamos el archivo con la información que necesitamos. Cabe recordar que este archivo ya está con la información limpia y lista para el análisis EDA:"
   ]
  },
  {
   "cell_type": "code",
   "execution_count": null,
   "metadata": {},
   "outputs": [],
   "source": [
    "# Definir la ruta relativa al archivo CSV\n",
    "csv_path = '../2_ETL/viales_clean.csv'\n",
    "\n",
    "# Cargar el archivo CSV en un DataFrame de pandas\n",
    "df_viales = pd.read_csv(csv_path)\n",
    "\n",
    "# Mostrar las primeras filas del DataFrame para verificar que se ha cargado correctamente\n",
    "df_viales.columns"
   ]
  },
  {
   "cell_type": "markdown",
   "metadata": {},
   "source": [
    "### <span style=\"color: #8DECB4\">**2-Variables Categóricas**</span>"
   ]
  },
  {
   "cell_type": "markdown",
   "metadata": {},
   "source": [
    "En el Análisis Exploratorio de Datos (EDA), las variables categóricas y numéricas juegan roles distintos pero complementarios para comprender la naturaleza del conjunto de datos y generar hipótesis relevantes para el análisis posterior.\n",
    "\n",
    "**`Variables categóricas:`**\n",
    "\n",
    "Definición: \n",
    "    Representan atributos cualitativos que se clasifican en categorías no numéricas. Algunos ejemplos comunes incluyen: género, tipo de producto, estado civil, etc.\n",
    "\n",
    "_**Rol en el EDA:**_\n",
    "\n",
    "- **Descripción de la distribución:** Se utilizan para identificar la frecuencia de cada categoría y resumir la distribución general de la variable. Esto se puede lograr mediante tablas de frecuencias, gráficos de barras o histogramas de frecuencias.\n",
    "\n",
    "- **Análisis de relaciones:** Se exploran las relaciones entre las variables categóricas y otras variables (tanto categóricas como numéricas) mediante tablas de contingencia, gráficos de barras apilados o gráficos de mosaico.\n",
    "\n",
    "- **Identificación de patrones:** Se buscan patrones y tendencias en la distribución de las variables categóricas, lo que puede revelar información valiosa sobre el comportamiento de los datos."
   ]
  },
  {
   "cell_type": "markdown",
   "metadata": {},
   "source": [
    "- En este trabajo podríamos generar relaciones entre el número de víctimas según rol del conductor. \n",
    "\n",
    "- Número de victimas según tipo de vehículo.\n",
    "\n",
    "- Víctimas fatales según vhículos y lugares.\n",
    "\n",
    "y así generar vários tipos de análisis y correlaciones."
   ]
  },
  {
   "cell_type": "markdown",
   "metadata": {},
   "source": [
    "    \"ROL\" posee 5 tipos de participación en los accidentes: CONDUCTOR', 'PASAJERO_ACOMPAÑANTE', 'PEATON', 'SD' y 'CICLISTA'."
   ]
  },
  {
   "cell_type": "code",
   "execution_count": null,
   "metadata": {},
   "outputs": [],
   "source": [
    "df_viales[\"ROL\"].unique()"
   ]
  },
  {
   "cell_type": "markdown",
   "metadata": {},
   "source": [
    "    El \"SEXO\" sólo puede ser 'MASCULINO', 'FEMENINO' o 'SD'."
   ]
  },
  {
   "cell_type": "code",
   "execution_count": null,
   "metadata": {},
   "outputs": [],
   "source": [
    "df_viales[\"SEXO\"].unique()"
   ]
  },
  {
   "cell_type": "markdown",
   "metadata": {},
   "source": [
    "    El \"LUGAR_DEL_HECHO\"o es una variable muy amplia, posee 683 entradas diferentes, por lo que su abordaje para analisis sera diferente a las demás."
   ]
  },
  {
   "cell_type": "code",
   "execution_count": null,
   "metadata": {},
   "outputs": [],
   "source": [
    "df_viales[\"LUGAR_DEL_HECHO\"].unique()"
   ]
  },
  {
   "cell_type": "code",
   "execution_count": null,
   "metadata": {},
   "outputs": [],
   "source": [
    "num_unique_places = len(df_viales[\"LUGAR_DEL_HECHO\"].unique())\n",
    "print(num_unique_places)"
   ]
  },
  {
   "cell_type": "markdown",
   "metadata": {},
   "source": [
    "    En \"TIPO_DE_CALLE\" las categorías posibles son: 'AVENIDA', 'GRAL PAZ', 'CALLE' y 'AUTOPISTA'."
   ]
  },
  {
   "cell_type": "code",
   "execution_count": null,
   "metadata": {},
   "outputs": [],
   "source": [
    "df_viales[\"TIPO_DE_CALLE\"].unique()"
   ]
  },
  {
   "cell_type": "code",
   "execution_count": null,
   "metadata": {},
   "outputs": [],
   "source": [
    "df_viales[\"CALLE\"].unique()"
   ]
  },
  {
   "cell_type": "code",
   "execution_count": null,
   "metadata": {},
   "outputs": [],
   "source": [
    "df_viales[\"CRUCE\"].unique()"
   ]
  },
  {
   "cell_type": "code",
   "execution_count": null,
   "metadata": {},
   "outputs": [],
   "source": [
    "df_viales[\"DIRECCIÓN_NORMALIZADA\"].unique()"
   ]
  },
  {
   "cell_type": "code",
   "execution_count": null,
   "metadata": {},
   "outputs": [],
   "source": [
    "df_viales[\"PARTICIPANTES\"].unique()"
   ]
  },
  {
   "cell_type": "code",
   "execution_count": null,
   "metadata": {},
   "outputs": [],
   "source": [
    "df_viales[\"VICTIMA\"].unique()"
   ]
  },
  {
   "cell_type": "code",
   "execution_count": null,
   "metadata": {},
   "outputs": [],
   "source": [
    "df_viales[\"ACUSADO\"].unique()"
   ]
  },
  {
   "cell_type": "code",
   "execution_count": null,
   "metadata": {},
   "outputs": [],
   "source": [
    "df_viales.columns"
   ]
  },
  {
   "cell_type": "code",
   "execution_count": null,
   "metadata": {},
   "outputs": [],
   "source": [
    "df_viales[\"FECHA\"]"
   ]
  },
  {
   "cell_type": "markdown",
   "metadata": {},
   "source": [
    "### <span style=\"color: #8DECB4\">**2-Variables Numéricas**</span>"
   ]
  },
  {
   "cell_type": "markdown",
   "metadata": {},
   "source": [
    "****\n",
    "<span style=\"color: #FAEF5D\">Mapa Boxplot para la detección de Outliers:</span>"
   ]
  },
  {
   "cell_type": "markdown",
   "metadata": {},
   "source": [
    "El mapa de Boxplot es una técnica de visualización de datos que combina los diagramas de caja (boxplots) con la representación espacial para identificar outliers de manera efectiva en conjuntos de datos con múltiples variables.\n",
    "\n",
    "Esta es una herramienta útil para la detección visual de outliers en conjuntos de datos multivariados. Su simplicidad y efectividad lo convierten en un recurso valioso para el Análisis Exploratorio de Datos (EDA).\n",
    "\n",
    "En nuestro caso las dos únicas variables en las cuales podemos aplicar este análisis son EDAD, N_VICTIMAS, AAAA, MM, DD, HH y COMUNA."
   ]
  },
  {
   "cell_type": "code",
   "execution_count": null,
   "metadata": {},
   "outputs": [],
   "source": [
    "# Crear un boxplot para cada variable\n",
    "variables = ['EDAD', 'N_VICTIMAS', 'AAAA', 'MM', 'DD', 'HH', 'COMUNA']\n",
    "colors = sns.color_palette(\"husl\", len(variables))  # Generar una paleta de colores\n",
    "\n",
    "# Configuración de gráficos para que se vean bien\n",
    "plt.figure(figsize=(12, 10))\n",
    "\n",
    "# Iterar sobre las variables y crear un boxplot para cada una con un color diferente\n",
    "for i, (variable, color) in enumerate(zip(variables, colors), 1):\n",
    "    plt.subplot(3, 3, i)  # Crear una cuadrícula de subgráficos 3x3\n",
    "    sns.boxplot(x=df_viales[variable], color=color)\n",
    "    plt.title(f'Boxplot de {variable}')\n",
    "\n",
    "plt.tight_layout()\n",
    "plt.show()"
   ]
  },
  {
   "cell_type": "markdown",
   "metadata": {},
   "source": [
    "    Interesante los resultados obtenidos:\n",
    "\n",
    "        - En edad podemos apreciar que en el rango de edades la mayor cantidad de accidentes se da en jóvenes y aunque no se distingue en el gráfico cuál sería esta edad la tendencia es visible.\n",
    "\n",
    "        - En número de victimas el gráfico nos presenta un gráfico en el cual las victimas son siempre 1, salvo dos casos en todo el dataset, 2 para uno y 3 para el otro. Lo que nos dice que el porcentaje de víctimas fatales es muy bajo ysto se puede deber a varios factores, entre ellos personas que viajan solas o buen uso de los sistemas de seguriadad como cinturón y airbag.\n",
    "\n",
    "        - En años la representación gráfica es coherente con la información de los datos. Sólo poseeemos datos de los anños 2017, 2018 y 2019.\n",
    "\n",
    "        - En mes la información también es impactante, la mayor cantidad de los accidentes se da entre el mes 4 y el 10, incluso con media en el mes 7.\n",
    "\n",
    "        - En el gráfico de los días vemos como los accidentes se distribuyen entre el 9 y el 24 de cada mes en su mayoría. Alentando así la idea de que al final de mes, por ejemplo, lagente no sale tanto por falta de dinero al comienzo del mes por el mismo motivo hasta que reciba su cobro.\n",
    "\n",
    "        - La representación de las horas nos dan a un primer análisis la idea de que los accidentes se dan principalmente en el horario laboral.\n",
    "\n",
    "        - En comuna apreciamos que la  8 es la que más accidentes ha registrado, y que obviamente sería la primera que deberíamos investigar por las posibles causas."
   ]
  },
  {
   "cell_type": "markdown",
   "metadata": {},
   "source": [
    "****\n",
    "<span style=\"color: #FAEF5D\">Mapa de Correlacion o Mapa de Calor:</span>"
   ]
  },
  {
   "cell_type": "markdown",
   "metadata": {},
   "source": [
    "Un mapa de correlación de calor, también conocido como mapa de calor de correlación, es una herramienta visual que muestra la correlación entre diferentes variables en un conjunto de datos utilizando colores para representar el grado de correlación.\n",
    "\n",
    "En un mapa de calor de correlación, cada celda representa la correlación entre dos variables. El valor de la correlación se indica mediante colores, donde tonos más claros (por ejemplo, tonos de amarillo o blanco) indican una correlación positiva y tonos más oscuros (por ejemplo, tonos de azul o negro) indican una correlación negativa. El color más neutro (generalmente verde) puede representar una correlación cercana a cero o sin correlación.\n",
    "\n",
    "En nuestro análisis podríamos asociar a las variables medidas de los accidentes viales. Este quedaría de esta forma:"
   ]
  },
  {
   "cell_type": "code",
   "execution_count": null,
   "metadata": {},
   "outputs": [],
   "source": [
    "# Seleccionar las columnas específicas\n",
    "columns_of_interest = ['EDAD', 'N_VICTIMAS', 'AAAA', 'MM', 'DD', 'HH', 'COMUNA', 'POS_X', 'POS_Y']\n",
    "data_selected = df_viales[columns_of_interest]\n",
    "\n",
    "# Verificar tipos de datos\n",
    "print(data_selected.dtypes)\n",
    "\n",
    "# Convertir columnas a numéricas si es posible\n",
    "data_selected = data_selected.apply(pd.to_numeric, errors='coerce')\n",
    "\n",
    "# Verificar nuevamente después de la conversión\n",
    "print(data_selected.dtypes)\n",
    "\n",
    "# Calcular la matriz de correlación y redondear a 2 decimales\n",
    "corr = data_selected.corr().round(2)\n",
    "\n",
    "# Generar el mapa de calor\n",
    "plt.figure(figsize=(10, 8))  # Ajusta el tamaño de la figura si es necesario\n",
    "sns.heatmap(corr, cmap=\"Reds\", annot=True, vmin=-1, vmax=1, center=0)\n",
    "plt.title('Mapa de Correlación - Variables seleccionadas')\n",
    "plt.show()"
   ]
  },
  {
   "cell_type": "markdown",
   "metadata": {},
   "source": [
    "    En el mapa de calor se pueden apreciar fuertes correlaciones entre las variables. Por ejemplo, las variables EDAD, AAAA, MM, DD, y HH poseen alta correlación con N_VICTIMAS, del mismo modo que N_VICTIMAS posee debil correlación con COMUNA  y con los puntos de posición X e Y. En un sentido estricto estaríamos alegando según estos datos que de manera premeditada con sólo saber la EDAD de la víctima también podríamos saber en qué lugar se dió el accidente y a que hora, por ejemplo."
   ]
  },
  {
   "cell_type": "markdown",
   "metadata": {},
   "source": [
    "****\n",
    "<span style=\"color: #FAEF5D\">Análisis de la Variable de Interés: N_VICTIMAS:</span>"
   ]
  },
  {
   "cell_type": "markdown",
   "metadata": {},
   "source": [
    "<span style=\"color: #DC5F00; font-size: 30px; text-decoration: underline;\">Histograma de Frecuencias:</span>"
   ]
  },
  {
   "cell_type": "code",
   "execution_count": null,
   "metadata": {},
   "outputs": [],
   "source": [
    "# Crear el histograma de frecuencias para la variable N_VICTIMAS\n",
    "plt.figure(figsize=(12, 10))\n",
    "hist = sns.histplot(df_viales['N_VICTIMAS'], bins=[0.5, 1.5, 2.5, 3.5], kde=False, color='blue', discrete=True)\n",
    "plt.title('Histograma de Frecuencias - N_VICTIMAS (1 a 3)')\n",
    "plt.xlabel('Número de Víctimas')\n",
    "plt.ylabel('Frecuencia')\n",
    "plt.xticks([1, 2, 3])  # Mostrar solo los enteros del 1 al 3 en el eje x\n",
    "plt.xlim(0.5, 3.5)  # Limitar el rango del eje x para que se enfoquen en 1 a 3\n",
    "\n",
    "# Agregar anotaciones de frecuencia en cada barra\n",
    "for p in hist.patches:\n",
    "    height = p.get_height()\n",
    "    hist.annotate(f'{int(height)}', \n",
    "                  xy=(p.get_x() + p.get_width() / 2, height), \n",
    "                  xytext=(0, 5),  # 5 points vertical offset\n",
    "                  textcoords='offset points', \n",
    "                  ha='center', va='bottom')\n",
    "\n",
    "plt.show()"
   ]
  },
  {
   "cell_type": "markdown",
   "metadata": {},
   "source": [
    "Nota: en el histograma de frecuencias vemos como los casos mayormente tienen una sola víctima, de todos los casos estudiados solo 3 tuvieron 3 víctimas."
   ]
  },
  {
   "cell_type": "markdown",
   "metadata": {},
   "source": [
    "<span style=\"color: #DC5F00; font-size: 30px; text-decoration: underline;\">Gráfico de Barras de Víctimas:</span>"
   ]
  },
  {
   "cell_type": "code",
   "execution_count": null,
   "metadata": {},
   "outputs": [],
   "source": [
    "# Contar la frecuencia de cada tipo de víctima\n",
    "victim_counts = df_viales['VICTIMA'].value_counts()\n",
    "\n",
    "# Crear el gráfico de barras\n",
    "plt.figure(figsize=(10, 6))\n",
    "sns.barplot(x=victim_counts.index, y=victim_counts.values, palette=\"viridis\")\n",
    "plt.title('Frecuencia de cada Tipo de Víctima')\n",
    "plt.xlabel('Tipo de Víctima')\n",
    "plt.ylabel('Frecuencia')\n",
    "plt.xticks(rotation=45)  # Rotar las etiquetas del eje x si es necesario\n",
    "plt.show()"
   ]
  },
  {
   "cell_type": "markdown",
   "metadata": {},
   "source": [
    "Nota: en este gráfico podemos responder porqué tenemos una sola victima en tantos accidentes, en su mayoría las víctimas son motociclistas y peatones."
   ]
  },
  {
   "cell_type": "markdown",
   "metadata": {},
   "source": [
    "<span style=\"color: #DC5F00; font-size: 30px; text-decoration: underline;\">Evolucón Anual de Víctimas:</span>"
   ]
  },
  {
   "cell_type": "code",
   "execution_count": null,
   "metadata": {},
   "outputs": [],
   "source": [
    "# Agrupar los datos por año y sumar el número de víctimas por año\n",
    "victimas_por_ano = df_viales.groupby('AAAA')['N_VICTIMAS'].sum().reset_index()\n",
    "\n",
    "# Crear el gráfico de evolución en el tiempo\n",
    "plt.figure(figsize=(15, 6))\n",
    "sns.lineplot(data=victimas_por_ano, x='AAAA', y='N_VICTIMAS', marker='o', color='blue')\n",
    "plt.title('Evolución del Número de Víctimas por Año')\n",
    "plt.xlabel('Año')\n",
    "plt.ylabel('Número de Víctimas')\n",
    "plt.grid(True)\n",
    "plt.show()"
   ]
  },
  {
   "cell_type": "markdown",
   "metadata": {},
   "source": [
    "Nota: en la serie de datos que nos fué brindada desde 2016 hasta 2021 vemos un incremento en víctimas de accidentes de transeto leve pero continuo desde 2016 hasta 2018 y luego el número de víctimas desciende fuertemente. La causa principal del desenso puede ser la pandemioa por COVID pero eso solo explicaria la disminucion en 2020 y en 2021, en cambio en 2019 no es explicado por eso y por lo tanto debe estar explicada por alguna otra como:\n",
    "\n",
    "- Implementación de políticas de seguridad vial.\n",
    "\n",
    "- Cambios en los hábitos de movilidad.\n",
    "\n",
    "- Mayor conciencia ciudadana."
   ]
  },
  {
   "cell_type": "markdown",
   "metadata": {},
   "source": [
    "<span style=\"color: #DC5F00; font-size: 30px; text-decoration: underline;\">Evolucón Mensual Promedio de Víctimas:</span>"
   ]
  },
  {
   "cell_type": "code",
   "execution_count": null,
   "metadata": {},
   "outputs": [],
   "source": [
    "# Agrupar los datos por mes y calcular el promedio de víctimas por mes\n",
    "victimas_por_mes = df_viales.groupby('MM')['N_VICTIMAS'].mean().reset_index()\n",
    "\n",
    "# Crear el gráfico de evolución mensual promedio\n",
    "plt.figure(figsize=(15, 6))\n",
    "sns.lineplot(data=victimas_por_mes, x='MM', y='N_VICTIMAS', marker='o', color='blue')\n",
    "plt.title('Evolución Mensual Promedio de Víctimas')\n",
    "plt.xlabel('Mes')\n",
    "plt.ylabel('Promedio de Víctimas')\n",
    "plt.grid(True)\n",
    "plt.xticks(ticks=range(1, 13), labels=['Enero', 'Febrero', 'Marzo', 'Abril', 'Mayo', 'Junio', 'Julio', 'Agosto', 'Septiembre', 'Octubre', 'Noviembre', 'Diciembre'])\n",
    "plt.show()"
   ]
  },
  {
   "cell_type": "markdown",
   "metadata": {},
   "source": [
    "Nota: la evolucíon del número de víctimas en promedio a traves de los meses de la serie anual aportada nos muestra los meses en los cuales hay mayor cantidad de accidentes, claramente febrero, marzo y abril son meses de vacaciones y entonces tenemos mayora trafico de personas tanto para trabajar como haciendo turismo, ahora veremos en el análisis de las horas para ver si es en horario laboral o de paseo."
   ]
  },
  {
   "cell_type": "markdown",
   "metadata": {},
   "source": [
    "<span style=\"color: #DC5F00; font-size: 30px; text-decoration: underline;\">Evolucón Promedio de Víctimas por Hora del día:</span>"
   ]
  },
  {
   "cell_type": "code",
   "execution_count": null,
   "metadata": {},
   "outputs": [],
   "source": [
    "# Filtrar las filas con valores no válidos en la columna \"HH\"\n",
    "df_viales = df_viales[df_viales['HH'].str.isdigit()]\n",
    "\n",
    "# Convertir la columna \"HH\" a tipo numérico y ordenarla\n",
    "df_viales['HH'] = pd.to_numeric(df_viales['HH'])\n",
    "victimas_por_hora = df_viales.groupby('HH')['N_VICTIMAS'].mean().reset_index()\n",
    "\n",
    "# Crear el gráfico de evolución por hora del día\n",
    "plt.figure(figsize=(16, 6))\n",
    "sns.lineplot(data=victimas_por_hora, x='HH', y='N_VICTIMAS', marker='o', color='blue')\n",
    "plt.title('Evolución Promedio de Víctimas por Hora del Día')\n",
    "plt.xlabel('Hora del Día')\n",
    "plt.ylabel('Promedio de Víctimas')\n",
    "plt.grid(True)\n",
    "plt.xticks(range(24))  # Mostrar todas las horas del día de 0 a 23\n",
    "plt.show()"
   ]
  },
  {
   "cell_type": "markdown",
   "metadata": {},
   "source": [
    "Nota: Este gráfico nos muestra 3 picos principales, uno a las 4 donde podemos interpretar que las personas pueden estar saliendo para un trabajo lejano o volviendo de alguna actividad nocturna y como asociamos actividades nocturnas con consumo de alcohol este puede ser una de las causas de la alta cantidad de siniestros vialea a esta hora. El del las 11 casi seguramente se debe a la vuelta del trabajo, así como el de las 18."
   ]
  },
  {
   "cell_type": "markdown",
   "metadata": {},
   "source": [
    "<span style=\"color: #DC5F00; font-size: 30px; text-decoration: underline;\">Evolución Promedio por Día del Mes de Víctimas:</span>"
   ]
  },
  {
   "cell_type": "code",
   "execution_count": null,
   "metadata": {},
   "outputs": [],
   "source": [
    "# Calcular la frecuencia de ocurrencia de cada día del mes\n",
    "frecuencia_por_dia = df_viales['DD'].value_counts().reset_index()\n",
    "frecuencia_por_dia.columns = ['Dia', 'Frecuencia']\n",
    "\n",
    "# Ordenar los días del mes en orden numérico\n",
    "frecuencia_por_dia = frecuencia_por_dia.sort_values('Dia')\n",
    "\n",
    "# Crear el gráfico de barras\n",
    "plt.figure(figsize=(10, 6))\n",
    "sns.barplot(data=frecuencia_por_dia, x='Dia', y='Frecuencia', palette='viridis')\n",
    "plt.title('Frecuencia por Día del Mes')\n",
    "plt.xlabel('Día del Mes')\n",
    "plt.ylabel('Frecuencia')\n",
    "plt.xticks(rotation=45)  # Rotar las etiquetas del eje x si es necesario\n",
    "plt.show()"
   ]
  },
  {
   "cell_type": "markdown",
   "metadata": {},
   "source": [
    "Nota: a la hora de analizar este gráfico noenconttramos patrones de comportamiento en el mismo. Probaremos analizar por cuartiles."
   ]
  },
  {
   "cell_type": "markdown",
   "metadata": {},
   "source": [
    "#### Frecuencia Promedio por Cuartil de 7 Días"
   ]
  },
  {
   "cell_type": "code",
   "execution_count": null,
   "metadata": {},
   "outputs": [],
   "source": [
    "# Calcular la frecuencia de ocurrencia de cada día del mes\n",
    "frecuencia_por_dia = df_viales['DD'].value_counts().reset_index()\n",
    "frecuencia_por_dia.columns = ['Dia', 'Frecuencia']\n",
    "\n",
    "# Ordenar los días del mes en orden numérico\n",
    "frecuencia_por_dia = frecuencia_por_dia.sort_values('Dia')\n",
    "\n",
    "# Dividir los datos en cuartiles de 7 días\n",
    "bins = [1, 8, 15, 22, 31]  # Los cuartiles serán del 1-7, 8-14, 15-21, 22-31\n",
    "labels = ['1-7', '8-14', '15-21', '22-31']\n",
    "frecuencia_por_dia['Cuartil'] = pd.cut(frecuencia_por_dia['Dia'], bins=bins, labels=labels, right=False)\n",
    "\n",
    "# Calcular la frecuencia promedio por cuartil\n",
    "frecuencia_promedio_cuartil = frecuencia_por_dia.groupby('Cuartil')['Frecuencia'].mean().reset_index()\n",
    "\n",
    "# Crear el gráfico de barras\n",
    "plt.figure(figsize=(10, 6))\n",
    "sns.barplot(data=frecuencia_promedio_cuartil, x='Cuartil', y='Frecuencia', palette='viridis')\n",
    "plt.title('Frecuencia Promedio por Cuartil de 7 Días')\n",
    "plt.xlabel('Cuartil de 7 Días')\n",
    "plt.ylabel('Frecuencia Promedio')\n",
    "plt.show()"
   ]
  },
  {
   "cell_type": "markdown",
   "metadata": {},
   "source": [
    "Nota: como era de esperarse no encontramos un patrón de comportamiento en la información que nos permita hacer conjeturas. Muy levemente aumentan los siniestros hacia final de mes, pero la tendencia es muy debil."
   ]
  },
  {
   "cell_type": "markdown",
   "metadata": {},
   "source": [
    "<span style=\"color: #DC5F00; font-size: 30px; text-decoration: underline;\">Promedio Edad de Víctimas:</span>"
   ]
  },
  {
   "cell_type": "code",
   "execution_count": null,
   "metadata": {},
   "outputs": [],
   "source": [
    "# Convertir la columna EDAD a valores numéricos, ignorando los errores\n",
    "df_viales['EDAD'] = pd.to_numeric(df_viales['EDAD'], errors='coerce')\n",
    "\n",
    "# Eliminar filas con valores NaN en la columna EDAD\n",
    "df_viales = df_viales.dropna(subset=['EDAD'])\n",
    "\n",
    "# Crear rangos de edades en intervalos de 5 años\n",
    "bins = list(range(0, int(df_viales['EDAD'].max() + 5), 5))\n",
    "labels = [f'{i}-{i+4}' for i in bins[:-1]]\n",
    "df_viales['Rango_Edad'] = pd.cut(df_viales['EDAD'], bins=bins, labels=labels, right=False)\n",
    "\n",
    "# Crear un DataFrame con las frecuencias por rango de edad\n",
    "frecuencia_por_rango = df_viales['Rango_Edad'].value_counts().sort_index().reset_index()\n",
    "frecuencia_por_rango.columns = ['Rango_Edad', 'Frecuencia']\n",
    "\n",
    "# Crear el gráfico de barras con la línea de tendencia\n",
    "plt.figure(figsize=(12, 6))\n",
    "sns.barplot(data=frecuencia_por_rango, x='Rango_Edad', y='Frecuencia', color='blue')\n",
    "sns.lineplot(data=frecuencia_por_rango, x='Rango_Edad', y='Frecuencia', marker='o', color='red')\n",
    "plt.title('Histograma de EDAD por Rangos de 5 Años con Línea de Tendencia')\n",
    "plt.xlabel('Rango de Edad')\n",
    "plt.ylabel('Frecuencia')\n",
    "plt.xticks(rotation=45)\n",
    "plt.grid(True)\n",
    "plt.show()"
   ]
  },
  {
   "cell_type": "markdown",
   "metadata": {},
   "source": [
    "Nota: entre los 20 y 44 años es la edad que más víctimas de accidentes se registran. Las edades despues de los 44 son menos afectadas por accidentes. Menores de 20 años son los menos afectados. Podríamos vincular este comportamiento a que los jóvenes por tener menor poder adquisitivo son los que o andan en moto o a pie que justamente son las victimas principales, las personas de mayor edad pueden andar en coche y por tal motivo poseen mas elemntos de seguridad ante accidentes."
   ]
  },
  {
   "cell_type": "markdown",
   "metadata": {},
   "source": [
    "<span style=\"color: #DC5F00; font-size: 30px; text-decoration: underline;\">Relación entre Rol y Sexo de la víctima</span>"
   ]
  },
  {
   "cell_type": "code",
   "execution_count": null,
   "metadata": {},
   "outputs": [],
   "source": [
    "# Agrupar los datos por ROL, SEXO y calcular la media del número de víctimas\n",
    "data_agrupada = df_viales.groupby(['ROL', 'SEXO'])['N_VICTIMAS'].mean().reset_index()\n",
    "\n",
    "# Crear el gráfico de barras agrupadas\n",
    "plt.figure(figsize=(12, 6))\n",
    "sns.barplot(data=data_agrupada, x='ROL', y='N_VICTIMAS', hue='SEXO', palette='viridis')\n",
    "plt.title('Relación entre ROL, SEXO y Número de Víctimas')\n",
    "plt.xlabel('Rol')\n",
    "plt.ylabel('Promedio de Víctimas')\n",
    "plt.legend(title='Sexo')\n",
    "plt.xticks(rotation=45)\n",
    "plt.grid(True)\n",
    "plt.show()"
   ]
  },
  {
   "cell_type": "markdown",
   "metadata": {},
   "source": [
    "Nota: esta relación nos brinda una mirada muy similar entre la afectación por accidentes entre hombres y mujeres. Únicamente como acompañante los hombres son en mayor medida victimas. en todos los demás roles es prácticamente lo mismo."
   ]
  },
  {
   "cell_type": "markdown",
   "metadata": {},
   "source": [
    "<span style=\"color: #DC5F00; font-size: 30px; text-decoration: underline;\">Relación entre Rol y Sexo de la víctima</span>"
   ]
  },
  {
   "cell_type": "code",
   "execution_count": null,
   "metadata": {},
   "outputs": [],
   "source": [
    "# Agrupar los datos por SEXO, ACUSADO y calcular la media del número de víctimas\n",
    "data_agrupada = df_viales.groupby(['SEXO', 'ACUSADO'])['N_VICTIMAS'].mean().reset_index()\n",
    "\n",
    "# Crear el gráfico de barras agrupadas\n",
    "plt.figure(figsize=(16, 6))\n",
    "sns.barplot(data=data_agrupada, x='SEXO', y='N_VICTIMAS', hue='ACUSADO', palette='viridis')\n",
    "plt.title('Relación entre SEXO, ACUSADO y Número de Víctimas')\n",
    "plt.xlabel('Sexo')\n",
    "plt.ylabel('Promedio de Víctimas')\n",
    "plt.legend(title='Acusado')\n",
    "plt.grid(True)\n",
    "plt.show()"
   ]
  },
  {
   "cell_type": "markdown",
   "metadata": {},
   "source": [
    "Nota: en un sentido general los que más generan accidentes son los hombres."
   ]
  },
  {
   "cell_type": "markdown",
   "metadata": {},
   "source": [
    "<span style=\"color: #DC5F00; font-size: 30px; text-decoration: underline;\">Frecuencia según el sexo tanto para ROL como para ACUSADO </span>"
   ]
  },
  {
   "cell_type": "code",
   "execution_count": null,
   "metadata": {},
   "outputs": [],
   "source": [
    "# Calcular las frecuencias de SEXO por ROL\n",
    "frecuencia_sexo_rol = df_viales.groupby(['ROL', 'SEXO']).size().reset_index(name='Frecuencia')\n",
    "\n",
    "# Calcular las frecuencias de SEXO por ACUSADO\n",
    "frecuencia_sexo_acusado = df_viales.groupby(['ACUSADO', 'SEXO']).size().reset_index(name='Frecuencia')\n",
    "\n",
    "# Crear subplots\n",
    "fig, axes = plt.subplots(1, 2, figsize=(18, 8), sharey=True)\n",
    "\n",
    "# Gráfico de barras para ROL\n",
    "sns.barplot(data=frecuencia_sexo_rol, x='ROL', y='Frecuencia', hue='SEXO', ax=axes[0], palette='viridis')\n",
    "axes[0].set_title('Frecuencia de SEXO por ROL')\n",
    "axes[0].set_xlabel('Rol')\n",
    "axes[0].set_ylabel('Frecuencia')\n",
    "axes[0].legend(title='Sexo')\n",
    "axes[0].tick_params(axis='x', rotation=45)\n",
    "\n",
    "# Gráfico de barras para ACUSADO\n",
    "sns.barplot(data=frecuencia_sexo_acusado, x='ACUSADO', y='Frecuencia', hue='SEXO', ax=axes[1], palette='viridis')\n",
    "axes[1].set_title('Frecuencia de SEXO por ACUSADO')\n",
    "axes[1].set_xlabel('Acusado')\n",
    "axes[1].set_ylabel('Frecuencia')\n",
    "axes[1].legend(title='Sexo')\n",
    "axes[1].tick_params(axis='x', rotation=45)\n",
    "\n",
    "plt.tight_layout()\n",
    "plt.show()"
   ]
  },
  {
   "cell_type": "markdown",
   "metadata": {},
   "source": [
    "Nota: si diagramamos las frecuencias de victimas segun ROL y ACUSADO para los dos sexos podemos apreciar que en casi todos los casos (todos en los mas relevantes) los hombres son mayormente acusados como también víctimas."
   ]
  },
  {
   "cell_type": "markdown",
   "metadata": {},
   "source": [
    "<span style=\"color: #DC5F00; font-size: 30px; text-decoration: underline;\">Frecuencia según el sexo tanto para ROL como para ACUSADO </span>"
   ]
  },
  {
   "cell_type": "code",
   "execution_count": null,
   "metadata": {},
   "outputs": [],
   "source": [
    "# Convertir la columna EDAD a valores numéricos, ignorando los errores\n",
    "df_viales['EDAD'] = pd.to_numeric(df_viales['EDAD'], errors='coerce')\n",
    "\n",
    "# Eliminar filas con valores NaN en la columna EDAD\n",
    "df_viales = df_viales.dropna(subset=['EDAD'])\n",
    "\n",
    "# Crear rangos de edades en intervalos de 5 años\n",
    "bins = list(range(0, int(df_viales['EDAD'].max() + 5), 5))\n",
    "labels = [f'{i}-{i+4}' for i in bins[:-1]]\n",
    "df_viales['Rango_Edad'] = pd.cut(df_viales['EDAD'], bins=bins, labels=labels, right=False)\n",
    "\n",
    "# Calcular las frecuencias por Rango de Edad y SEXO\n",
    "frecuencia_sexo_edad = df_viales.groupby(['Rango_Edad', 'SEXO']).size().reset_index(name='Frecuencia')\n",
    "\n",
    "# Crear el gráfico de barras agrupadas\n",
    "plt.figure(figsize=(14, 7))\n",
    "sns.barplot(data=frecuencia_sexo_edad, x='Rango_Edad', y='Frecuencia', hue='SEXO', palette='viridis')\n",
    "\n",
    "# Añadir la línea de tendencia\n",
    "for sexo in frecuencia_sexo_edad['SEXO'].unique():\n",
    "    subset = frecuencia_sexo_edad[frecuencia_sexo_edad['SEXO'] == sexo]\n",
    "    plt.plot(subset['Rango_Edad'], subset['Frecuencia'], marker='o', label=f'Tendencia {sexo}')\n",
    "\n",
    "plt.title('Frecuencia de SEXO por Rango de EDAD con Línea de Tendencia')\n",
    "plt.xlabel('Rango de Edad')\n",
    "plt.ylabel('Frecuencia')\n",
    "plt.legend(title='Sexo y Tendencia')\n",
    "plt.xticks(rotation=45)\n",
    "plt.grid(True)\n",
    "plt.show()"
   ]
  },
  {
   "cell_type": "markdown",
   "metadata": {},
   "source": [
    "Nota: la verdad que esta relación entre el sexo y la edad no guardan relacion o tendencia significaiva para explicar los siniestros."
   ]
  },
  {
   "cell_type": "markdown",
   "metadata": {},
   "source": [
    "****\n",
    "<span style=\"color: #FAEF5D\">Mapa de Distribución espacial de Siniestros</span>"
   ]
  },
  {
   "cell_type": "code",
   "execution_count": null,
   "metadata": {},
   "outputs": [],
   "source": [
    "# Filtrar filas con posiciones no válidas\n",
    "valid_positions = ~(df_viales['POS_X'].str.contains('[^0-9.,-]') | df_viales['POS_Y'].str.contains('[^0-9.,-]') | (df_viales['POS_X'] == '.') | (df_viales['POS_Y'] == '.'))\n",
    "\n",
    "# Establecer posiciones no válidas en NaN\n",
    "df_viales.loc[~valid_positions, ['POS_X', 'POS_Y']] = np.nan\n",
    "\n",
    "# Convertir las cadenas a tipo numérico (float)\n",
    "df_viales['POS_X'] = df_viales['POS_X'].str.replace(',', '.').astype(float)\n",
    "df_viales['POS_Y'] = df_viales['POS_Y'].str.replace(',', '.').astype(float)"
   ]
  },
  {
   "cell_type": "code",
   "execution_count": null,
   "metadata": {},
   "outputs": [],
   "source": [
    "# Iniciamos CRS\n",
    "crs={'init':'epsg:4326'}\n",
    "#Definimos la geometría según nuestro dataset\n",
    "geometry=[Point(xy) for xy in zip(df_viales[\"POS_X\"], df_viales[\"POS_Y\"])]\n",
    "\n",
    "#Ua vez que tenemos el sistema de referencia decoordenadas y la geometría; se procede a la carga de los datos\n",
    "geodata=gpd.GeoDataFrame(df_viales,crs=crs, geometry=geometry)\n",
    "\n",
    "#Se imprime el resultante que luego será introducido en un mapa\n",
    "geodata.plot()"
   ]
  },
  {
   "cell_type": "markdown",
   "metadata": {},
   "source": [
    "Una vez que el mapa de geometría está listo, se debe cargar el archivo de las comunas del la ciudad de Buenos Aires que se extrajo de https://data.buenosaires.gob.ar/dataset/comunas/resource/Juqdkmgo-612222-resource que debe ser un archivo Shapefile (SHP)"
   ]
  },
  {
   "cell_type": "code",
   "execution_count": null,
   "metadata": {},
   "outputs": [],
   "source": [
    "import requests\n",
    "import zipfile\n",
    "import geopandas as gpd\n",
    "import os\n",
    "\n",
    "# URL del archivo ZIP\n",
    "url = \"https://cdn.buenosaires.gob.ar/datosabiertos/datasets/ministerio-de-educacion/comunas/comunas.zip\"\n",
    "\n",
    "# Nombre del archivo ZIP descargado\n",
    "zip_file = \"comunas.zip\"\n",
    "\n",
    "# Carpeta de destino para extraer el archivo ZIP\n",
    "extract_folder = \"comunas_shapefile\"\n",
    "\n",
    "# Descargar el archivo ZIP desde la URL\n",
    "response = requests.get(url)\n",
    "\n",
    "# Guardar el archivo ZIP descargado en el disco\n",
    "with open(zip_file, \"wb\") as f:\n",
    "    f.write(response.content)\n",
    "\n",
    "# Extraer el contenido del archivo ZIP\n",
    "with zipfile.ZipFile(zip_file, \"r\") as zip_ref:\n",
    "    zip_ref.extractall(extract_folder)\n",
    "\n",
    "# Leer el archivo shapefile extraído\n",
    "shapefile = gpd.read_file(\"comunas_shapefile/comunas_wgs84.shp\")\n",
    "\n",
    "# Mostrar información del shapefile\n",
    "print(shapefile.head())\n"
   ]
  },
  {
   "cell_type": "code",
   "execution_count": null,
   "metadata": {},
   "outputs": [],
   "source": [
    "#Se realiza sobre el mapa de CABA la presentación de los puntos de referencia a los siniestros viales\n",
    "\n",
    "#Crea ejes y figuras\n",
    "fig, ax = plt.subplots(figsize=(10,8))\n",
    "\n",
    "#Dibujar el Shapefile\n",
    "shapefile.plot(ax=ax, facecolor='Grey', edgecolor='k',alpha=0.8,linewidth=0.5,cmap=\"viridis\")\n",
    "\n",
    "#Dibujar los datos geoespaciales\n",
    "geodata.plot(ax=ax, color='red', markersize=5);\n",
    "\n",
    "#Agregar título y etiquetas de ejes\n",
    "fig.suptitle('Comunas de la Ciudad Buenos Aires', fontsize=12)\n",
    "ax.set_xlabel('Longitud', fontsize=10)\n",
    "ax.set_ylabel('Latitud', fontsize='medium')"
   ]
  },
  {
   "cell_type": "markdown",
   "metadata": {},
   "source": [
    "Nota: en este mapa vemos el mapa de las comunas pintado con los puntos que corresponden a los casos de siniestros viales. En un sentido amplio vemos como se consentran en la zona sur del mapa y principalmente en la zona sureste."
   ]
  }
 ],
 "metadata": {
  "kernelspec": {
   "display_name": "Python 3",
   "language": "python",
   "name": "python3"
  },
  "language_info": {
   "codemirror_mode": {
    "name": "ipython",
    "version": 3
   },
   "file_extension": ".py",
   "mimetype": "text/x-python",
   "name": "python",
   "nbconvert_exporter": "python",
   "pygments_lexer": "ipython3",
   "version": "3.12.1"
  }
 },
 "nbformat": 4,
 "nbformat_minor": 2
}
